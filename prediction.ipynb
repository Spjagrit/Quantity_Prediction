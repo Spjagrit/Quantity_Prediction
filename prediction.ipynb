{
  "nbformat": 4,
  "nbformat_minor": 0,
  "metadata": {
    "colab": {
      "provenance": [],
      "toc_visible": true
    },
    "kernelspec": {
      "name": "python3",
      "display_name": "Python 3"
    },
    "language_info": {
      "name": "python"
    }
  },
  "cells": [
    {
      "cell_type": "code",
      "execution_count": null,
      "metadata": {
        "id": "KhDn6Fk0suBF"
      },
      "outputs": [],
      "source": [
        "import pandas as pd\n",
        "from datetime import datetime\n",
        "\n",
        "\n",
        "# Reading the data and fedding the data for pre-processing\n",
        "df = pd.read_csv('Online_Retail.csv')\n",
        "\n",
        "# By adding errors='coerce', the code will convert any values that do not match the specified format to NaT (Not a Time) value, indicating missing or invalid dates.\n",
        "df['InvoiceDate'] = pd.to_datetime(df['InvoiceDate'], format='%m/%d/%y %H:%M', errors='coerce')\n",
        "\n",
        "# applying pivoting\n",
        "pivoted_df = df.pivot_table(index='CustomerID', columns='InvoiceDate', values='Quantity', aggfunc='sum')\n",
        "\n",
        "# predicting the actual result by taking in the arguments customer_id and date\n",
        "def predict_quantity(customer_id, date):\n",
        "    date = datetime.strptime(date, '%m/%d/%y %H:%M')\n",
        "    return pivoted_df.loc[customer_id, date]\n",
        "\n",
        "# taking the required input and passing into the fuction\n",
        "customer_id = int(input(\"Enter the required Customer ID :\"))\n",
        "date = input(\"Enter the date in the following format i.e. d/m/y h:m :\")\n",
        "predicted_quantity = predict_quantity(customer_id, date) # function calling\n",
        "print(f\"Predicted quantity for customer ID {customer_id} on {date}: {predicted_quantity}\") #printing the predicted result\n"
      ]
    }
  ]
}